{
 "cells": [
  {
   "cell_type": "markdown",
   "metadata": {},
   "source": [
    "## 数据分析\n",
    "### 数据表生成"
   ]
  },
  {
   "cell_type": "code",
   "execution_count": 4,
   "metadata": {},
   "outputs": [
    {
     "name": "stdout",
     "output_type": "stream",
     "text": [
      "Z:\\02_Study\\学习文件\\01_人工智能学习\\01_数据存储与处理\\pydata-book-3rd-edition\\pydata-book-3rd-edition\\examples\n",
      "Z:\\02_Study\\学习文件\\01_人工智能学习\\01_数据存储与处理\\pydata-book-3rd-edition\\pydata-book-3rd-edition\\examples\n"
     ]
    }
   ],
   "source": [
    "import numpy as np\n",
    "import pandas as pd\n",
    "import os\n",
    "from pathlib import Path\n",
    "print(os.getcwd())\n",
    "path = r'Z:\\02_Study\\学习文件\\01_人工智能学习\\01_数据存储与处理\\pydata-book-3rd-edition\\pydata-book-3rd-edition\\examples'\n",
    "path = Path(path)\n",
    "os.chdir(path)\n",
    "print(os.getcwd())\n"
   ]
  },
  {
   "cell_type": "code",
   "execution_count": null,
   "metadata": {},
   "outputs": [],
   "source": []
  },
  {
   "cell_type": "code",
   "execution_count": null,
   "metadata": {},
   "outputs": [],
   "source": []
  },
  {
   "cell_type": "code",
   "execution_count": 31,
   "metadata": {},
   "outputs": [
    {
     "name": "stdout",
     "output_type": "stream",
     "text": [
      "0 array_ex.txt\n",
      "1 csv_mindex.csv\n",
      "2 ex1.csv\n",
      "3 ex1.xlsx\n",
      "4 ex2.csv\n",
      "5 ex3.txt\n",
      "6 ex4.csv\n",
      "7 ex5.csv\n",
      "8 ex6.csv\n",
      "9 ex7.csv\n",
      "10 example.json\n",
      "11 fdic_failed_bank_list.html\n",
      "12 ipython_bug.py\n",
      "13 macrodata.csv\n",
      "14 segismundo.txt\n",
      "15 spx.csv\n",
      "16 stinkbug.png\n",
      "17 stock_px.csv\n",
      "18 test\n",
      "19 test_file.csv\n",
      "20 tips.csv\n",
      "21 tmp\n",
      "22 tseries.csv\n",
      "23 volume.csv\n",
      "24 yahoo_price.pkl\n",
      "25 yahoo_volume.pkl\n",
      "26 ~$ex1.xlsx\n",
      "0 array_ex.txt\n",
      "1 csv_mindex.csv\n",
      "2 ex1.csv\n",
      "3 ex1.xlsx\n",
      "4 ex2.csv\n",
      "5 ex3.txt\n",
      "6 ex4.csv\n",
      "7 ex5.csv\n",
      "8 ex6.csv\n",
      "9 ex7.csv\n",
      "10 example.json\n",
      "11 fdic_failed_bank_list.html\n",
      "12 ipython_bug.py\n",
      "13 macrodata.csv\n",
      "14 segismundo.txt\n",
      "15 spx.csv\n",
      "16 stinkbug.png\n",
      "17 stock_px.csv\n",
      "18 test\n",
      "19 test_file.csv\n",
      "20 tips.csv\n",
      "21 tmp\n",
      "22 tseries.csv\n",
      "23 volume.csv\n",
      "24 yahoo_price.pkl\n",
      "25 yahoo_volume.pkl\n",
      "26 ~$ex1.xlsx\n",
      "27 test.txt\n",
      "28 new_name.txt\n"
     ]
    }
   ],
   "source": [
    "# 当前路径下所有的文件\n",
    "for i,f in enumerate(path.glob('*')):\n",
    "    print(i,f.name)\n",
    "# 当前路径以及子路径下面所有的文件\n",
    "for i,f in enumerate(path.rglob('*')):\n",
    "    print(i,f.name)"
   ]
  },
  {
   "cell_type": "markdown",
   "metadata": {},
   "source": [
    "##### 当前目录及其所有子目录中的文件总数"
   ]
  },
  {
   "cell_type": "code",
   "execution_count": 29,
   "metadata": {},
   "outputs": [
    {
     "name": "stdout",
     "output_type": "stream",
     "text": [
      "当前文件路径下所有文件的数量：27\n"
     ]
    },
    {
     "data": {
      "text/plain": [
       "WindowsPath('Z:/02_Study/学习文件/01_人工智能学习/01_数据存储与处理/pydata-book-3rd-edition/pydata-book-3rd-edition')"
      ]
     },
     "execution_count": 29,
     "metadata": {},
     "output_type": "execute_result"
    }
   ],
   "source": [
    "file_cnt = sum(1 for p in Path('.').rglob('*')\n",
    "               if p.is_file() and not p.is_symlink()\n",
    "               )\n",
    "print(f'当前文件路径下所有文件的数量：{file_cnt}')\n",
    "# 当前文件名\n",
    "p = Path('.').resolve().name\n",
    "# 当前文件的父目录\n",
    "p = Path('.').resolve().parent\n",
    "p"
   ]
  },
  {
   "cell_type": "markdown",
   "metadata": {},
   "source": [
    "##### 修改文件名称"
   ]
  },
  {
   "cell_type": "code",
   "execution_count": 24,
   "metadata": {},
   "outputs": [
    {
     "data": {
      "text/plain": [
       "WindowsPath('tmp/new_name.txt')"
      ]
     },
     "execution_count": 24,
     "metadata": {},
     "output_type": "execute_result"
    }
   ],
   "source": [
    "p = Path(r'.\\tmp\\old_name.txt')\n",
    "p.parent.mkdir(parents=True,exist_ok=True)\n",
    "p.touch()\n",
    "new_path = Path(r'.\\tmp\\new_name.txt')\n",
    "p.rename(new_path)"
   ]
  },
  {
   "cell_type": "markdown",
   "metadata": {},
   "source": [
    "##### 导入数据及索引"
   ]
  },
  {
   "cell_type": "code",
   "execution_count": null,
   "metadata": {},
   "outputs": [
    {
     "data": {
      "text/html": [
       "<div>\n",
       "<style scoped>\n",
       "    .dataframe tbody tr th:only-of-type {\n",
       "        vertical-align: middle;\n",
       "    }\n",
       "\n",
       "    .dataframe tbody tr th {\n",
       "        vertical-align: top;\n",
       "    }\n",
       "\n",
       "    .dataframe thead th {\n",
       "        text-align: right;\n",
       "    }\n",
       "</style>\n",
       "<table border=\"1\" class=\"dataframe\">\n",
       "  <thead>\n",
       "    <tr style=\"text-align: right;\">\n",
       "      <th></th>\n",
       "      <th>Unnamed: 0</th>\n",
       "      <th>a</th>\n",
       "      <th>b</th>\n",
       "      <th>c</th>\n",
       "      <th>d</th>\n",
       "      <th>message</th>\n",
       "    </tr>\n",
       "  </thead>\n",
       "  <tbody>\n",
       "    <tr>\n",
       "      <th>0</th>\n",
       "      <td>0</td>\n",
       "      <td>1</td>\n",
       "      <td>2</td>\n",
       "      <td>3</td>\n",
       "      <td>4</td>\n",
       "      <td>hello</td>\n",
       "    </tr>\n",
       "    <tr>\n",
       "      <th>1</th>\n",
       "      <td>1</td>\n",
       "      <td>5</td>\n",
       "      <td>6</td>\n",
       "      <td>7</td>\n",
       "      <td>8</td>\n",
       "      <td>world</td>\n",
       "    </tr>\n",
       "    <tr>\n",
       "      <th>2</th>\n",
       "      <td>2</td>\n",
       "      <td>9</td>\n",
       "      <td>10</td>\n",
       "      <td>11</td>\n",
       "      <td>12</td>\n",
       "      <td>foo</td>\n",
       "    </tr>\n",
       "  </tbody>\n",
       "</table>\n",
       "</div>"
      ],
      "text/plain": [
       "   Unnamed: 0  a   b   c   d message\n",
       "0           0  1   2   3   4   hello\n",
       "1           1  5   6   7   8   world\n",
       "2           2  9  10  11  12     foo"
      ]
     },
     "execution_count": 38,
     "metadata": {},
     "output_type": "execute_result"
    }
   ],
   "source": [
    "# 导入数据\n",
    "data = pd.read_excel('ex1.xlsx',sheet_name=0,header=0)\n",
    "data.iloc[:,:-1]"
   ]
  },
  {
   "cell_type": "code",
   "execution_count": 83,
   "metadata": {},
   "outputs": [
    {
     "data": {
      "text/html": [
       "<div>\n",
       "<style scoped>\n",
       "    .dataframe tbody tr th:only-of-type {\n",
       "        vertical-align: middle;\n",
       "    }\n",
       "\n",
       "    .dataframe tbody tr th {\n",
       "        vertical-align: top;\n",
       "    }\n",
       "\n",
       "    .dataframe thead th {\n",
       "        text-align: right;\n",
       "    }\n",
       "</style>\n",
       "<table border=\"1\" class=\"dataframe\">\n",
       "  <thead>\n",
       "    <tr style=\"text-align: right;\">\n",
       "      <th></th>\n",
       "      <th>a</th>\n",
       "      <th>b</th>\n",
       "      <th>c</th>\n",
       "      <th>d</th>\n",
       "      <th>message</th>\n",
       "    </tr>\n",
       "    <tr>\n",
       "      <th>new_columns</th>\n",
       "      <th></th>\n",
       "      <th></th>\n",
       "      <th></th>\n",
       "      <th></th>\n",
       "      <th></th>\n",
       "    </tr>\n",
       "  </thead>\n",
       "  <tbody>\n",
       "    <tr>\n",
       "      <th>x</th>\n",
       "      <td>1</td>\n",
       "      <td>2</td>\n",
       "      <td>3</td>\n",
       "      <td>4</td>\n",
       "      <td>hello</td>\n",
       "    </tr>\n",
       "    <tr>\n",
       "      <th>y</th>\n",
       "      <td>5</td>\n",
       "      <td>6</td>\n",
       "      <td>7</td>\n",
       "      <td>8</td>\n",
       "      <td>world</td>\n",
       "    </tr>\n",
       "    <tr>\n",
       "      <th>z</th>\n",
       "      <td>9</td>\n",
       "      <td>10</td>\n",
       "      <td>11</td>\n",
       "      <td>12</td>\n",
       "      <td>foo</td>\n",
       "    </tr>\n",
       "  </tbody>\n",
       "</table>\n",
       "</div>"
      ],
      "text/plain": [
       "             a   b   c   d message\n",
       "new_columns                       \n",
       "x            1   2   3   4   hello\n",
       "y            5   6   7   8   world\n",
       "z            9  10  11  12     foo"
      ]
     },
     "execution_count": 83,
     "metadata": {},
     "output_type": "execute_result"
    }
   ],
   "source": [
    "df = pd.read_excel('ex1.xlsx', sheet_name=0)\n",
    "\n",
    "# 假设你用前三列做索引\n",
    "# df = df.set_index(['Unnamed: 0', 'a', 'b'])  # 用实际存在的列\n",
    "# df.index.names = ['x', 'y', 'z']             # 重命名索引\n",
    "df['new_columns'] = ['x', 'y', 'z']\n",
    "df.set_index('new_columns',inplace= True)\n",
    "df.drop(columns='Unnamed: 0',inplace=True)\n",
    "df"
   ]
  },
  {
   "cell_type": "code",
   "execution_count": 84,
   "metadata": {},
   "outputs": [
    {
     "data": {
      "text/html": [
       "<div>\n",
       "<style scoped>\n",
       "    .dataframe tbody tr th:only-of-type {\n",
       "        vertical-align: middle;\n",
       "    }\n",
       "\n",
       "    .dataframe tbody tr th {\n",
       "        vertical-align: top;\n",
       "    }\n",
       "\n",
       "    .dataframe thead th {\n",
       "        text-align: right;\n",
       "    }\n",
       "</style>\n",
       "<table border=\"1\" class=\"dataframe\">\n",
       "  <thead>\n",
       "    <tr style=\"text-align: right;\">\n",
       "      <th></th>\n",
       "      <th>a</th>\n",
       "      <th>b</th>\n",
       "      <th>c</th>\n",
       "      <th>d</th>\n",
       "      <th>message</th>\n",
       "    </tr>\n",
       "    <tr>\n",
       "      <th>new_columns</th>\n",
       "      <th></th>\n",
       "      <th></th>\n",
       "      <th></th>\n",
       "      <th></th>\n",
       "      <th></th>\n",
       "    </tr>\n",
       "  </thead>\n",
       "  <tbody>\n",
       "    <tr>\n",
       "      <th>x</th>\n",
       "      <td>1</td>\n",
       "      <td>2</td>\n",
       "      <td>3</td>\n",
       "      <td>4</td>\n",
       "      <td>hello</td>\n",
       "    </tr>\n",
       "    <tr>\n",
       "      <th>y</th>\n",
       "      <td>5</td>\n",
       "      <td>6</td>\n",
       "      <td>7</td>\n",
       "      <td>8</td>\n",
       "      <td>world</td>\n",
       "    </tr>\n",
       "    <tr>\n",
       "      <th>z</th>\n",
       "      <td>9</td>\n",
       "      <td>10</td>\n",
       "      <td>11</td>\n",
       "      <td>12</td>\n",
       "      <td>foo</td>\n",
       "    </tr>\n",
       "  </tbody>\n",
       "</table>\n",
       "</div>"
      ],
      "text/plain": [
       "             a   b   c   d message\n",
       "new_columns                       \n",
       "x            1   2   3   4   hello\n",
       "y            5   6   7   8   world\n",
       "z            9  10  11  12     foo"
      ]
     },
     "execution_count": 84,
     "metadata": {},
     "output_type": "execute_result"
    }
   ],
   "source": [
    "df"
   ]
  },
  {
   "cell_type": "code",
   "execution_count": 87,
   "metadata": {},
   "outputs": [
    {
     "data": {
      "text/plain": [
       "new_columns\n",
       "x    1\n",
       "y    5\n",
       "z    9\n",
       "Name: a, dtype: int64"
      ]
     },
     "execution_count": 87,
     "metadata": {},
     "output_type": "execute_result"
    }
   ],
   "source": [
    "df.loc['x':'z','a']"
   ]
  },
  {
   "cell_type": "code",
   "execution_count": 89,
   "metadata": {},
   "outputs": [
    {
     "data": {
      "text/plain": [
       "new_columns\n",
       "x     2\n",
       "y     6\n",
       "z    10\n",
       "Name: b, dtype: int64"
      ]
     },
     "execution_count": 89,
     "metadata": {},
     "output_type": "execute_result"
    }
   ],
   "source": [
    "df.iloc[0:len(df),1]"
   ]
  },
  {
   "cell_type": "markdown",
   "metadata": {},
   "source": [
    "##### 数据表创建"
   ]
  },
  {
   "cell_type": "code",
   "execution_count": 92,
   "metadata": {},
   "outputs": [
    {
     "data": {
      "text/html": [
       "<div>\n",
       "<style scoped>\n",
       "    .dataframe tbody tr th:only-of-type {\n",
       "        vertical-align: middle;\n",
       "    }\n",
       "\n",
       "    .dataframe tbody tr th {\n",
       "        vertical-align: top;\n",
       "    }\n",
       "\n",
       "    .dataframe thead th {\n",
       "        text-align: right;\n",
       "    }\n",
       "</style>\n",
       "<table border=\"1\" class=\"dataframe\">\n",
       "  <thead>\n",
       "    <tr style=\"text-align: right;\">\n",
       "      <th></th>\n",
       "      <th>id</th>\n",
       "      <th>date</th>\n",
       "      <th>city</th>\n",
       "      <th>category</th>\n",
       "      <th>age</th>\n",
       "      <th>price</th>\n",
       "    </tr>\n",
       "  </thead>\n",
       "  <tbody>\n",
       "    <tr>\n",
       "      <th>0</th>\n",
       "      <td>1001</td>\n",
       "      <td>2025-08-26</td>\n",
       "      <td>beijing</td>\n",
       "      <td>100-A</td>\n",
       "      <td>22</td>\n",
       "      <td>1200.0</td>\n",
       "    </tr>\n",
       "    <tr>\n",
       "      <th>1</th>\n",
       "      <td>1002</td>\n",
       "      <td>2025-08-27</td>\n",
       "      <td>shagnhai</td>\n",
       "      <td>100-B</td>\n",
       "      <td>44</td>\n",
       "      <td>NaN</td>\n",
       "    </tr>\n",
       "    <tr>\n",
       "      <th>2</th>\n",
       "      <td>1003</td>\n",
       "      <td>2025-08-28</td>\n",
       "      <td>SH</td>\n",
       "      <td>110-A</td>\n",
       "      <td>54</td>\n",
       "      <td>2133.0</td>\n",
       "    </tr>\n",
       "    <tr>\n",
       "      <th>3</th>\n",
       "      <td>1004</td>\n",
       "      <td>2025-08-29</td>\n",
       "      <td>guangzhou</td>\n",
       "      <td>110-C</td>\n",
       "      <td>32</td>\n",
       "      <td>5433.0</td>\n",
       "    </tr>\n",
       "    <tr>\n",
       "      <th>4</th>\n",
       "      <td>1005</td>\n",
       "      <td>2025-08-30</td>\n",
       "      <td>shenzhen</td>\n",
       "      <td>210-A</td>\n",
       "      <td>34</td>\n",
       "      <td>NaN</td>\n",
       "    </tr>\n",
       "    <tr>\n",
       "      <th>5</th>\n",
       "      <td>1006</td>\n",
       "      <td>2025-08-31</td>\n",
       "      <td>BEIJING</td>\n",
       "      <td>130-F</td>\n",
       "      <td>32</td>\n",
       "      <td>4432.0</td>\n",
       "    </tr>\n",
       "  </tbody>\n",
       "</table>\n",
       "</div>"
      ],
      "text/plain": [
       "     id       date       city category  age   price\n",
       "0  1001 2025-08-26    beijing    100-A   22  1200.0\n",
       "1  1002 2025-08-27   shagnhai    100-B   44     NaN\n",
       "2  1003 2025-08-28         SH    110-A   54  2133.0\n",
       "3  1004 2025-08-29  guangzhou    110-C   32  5433.0\n",
       "4  1005 2025-08-30   shenzhen    210-A   34     NaN\n",
       "5  1006 2025-08-31    BEIJING    130-F   32  4432.0"
      ]
     },
     "execution_count": 92,
     "metadata": {},
     "output_type": "execute_result"
    }
   ],
   "source": [
    "df = pd.DataFrame(\n",
    "{'id':[1001,1002,1003,1004,1005,1006],\n",
    " 'date':pd.date_range('2025-8-26',periods=6,freq='D'),\n",
    " 'city':['beijing','shagnhai','SH','guangzhou','shenzhen','BEIJING'],\n",
    " 'age':[22,44,54,32,34,32],\n",
    " 'category':['100-A','100-B','110-A','110-C','210-A','130-F'],\n",
    " 'price':[1200,np.nan,2133,5433,np.nan,4432]\n",
    " \n",
    " },\n",
    " columns = ['id','date','city','category','age','price']\n",
    ")\n",
    "df"
   ]
  },
  {
   "cell_type": "code",
   "execution_count": 96,
   "metadata": {},
   "outputs": [
    {
     "name": "stdout",
     "output_type": "stream",
     "text": [
      "<class 'pandas.core.frame.DataFrame'>\n",
      "RangeIndex: 6 entries, 0 to 5\n",
      "Data columns (total 6 columns):\n",
      " #   Column    Non-Null Count  Dtype         \n",
      "---  ------    --------------  -----         \n",
      " 0   id        6 non-null      int64         \n",
      " 1   date      6 non-null      datetime64[ns]\n",
      " 2   city      6 non-null      object        \n",
      " 3   category  6 non-null      object        \n",
      " 4   age       6 non-null      int64         \n",
      " 5   price     4 non-null      float64       \n",
      "dtypes: datetime64[ns](1), float64(1), int64(2), object(2)\n",
      "memory usage: 420.0+ bytes\n"
     ]
    }
   ],
   "source": [
    "# 数据表信息查看\n",
    "df.shape\n",
    "df.info()"
   ]
  }
 ],
 "metadata": {
  "kernelspec": {
   "display_name": "base",
   "language": "python",
   "name": "python3"
  },
  "language_info": {
   "codemirror_mode": {
    "name": "ipython",
    "version": 3
   },
   "file_extension": ".py",
   "mimetype": "text/x-python",
   "name": "python",
   "nbconvert_exporter": "python",
   "pygments_lexer": "ipython3",
   "version": "3.11.9"
  }
 },
 "nbformat": 4,
 "nbformat_minor": 2
}
